{
 "cells": [
  {
   "cell_type": "markdown",
   "metadata": {
    "application/vnd.databricks.v1+cell": {
     "cellMetadata": {
      "byteLimit": 2048000,
      "rowLimit": 10000
     },
     "inputWidgets": {},
     "nuid": "3c19a42d-9a6a-4a32-979a-554e0071e158",
     "showTitle": false,
     "tableResultSettingsMap": {},
     "title": ""
    }
   },
   "source": [
    "### Exploratory Data Analysis - Extract Data\n",
    "In this notebook we will practice extracting data into Spark dataframe and then store the data from Spark dataframe into Python/pandas dataframe and into databricks table for future use. Having the data into pandas dataframe will allow us to perform exploratory data analysis and visualization using python in the furure notebooks.\n",
    "\n",
    "We will extract data from common file types such as -\n",
    "- CSV\n",
    "- JSON"
   ]
  },
  {
   "cell_type": "markdown",
   "metadata": {
    "application/vnd.databricks.v1+cell": {
     "cellMetadata": {
      "byteLimit": 2048000,
      "rowLimit": 10000
     },
     "inputWidgets": {},
     "nuid": "809c964e-4408-48a9-8c22-f665193cc5f1",
     "showTitle": false,
     "tableResultSettingsMap": {},
     "title": ""
    }
   },
   "source": [
    "#### Extract data from CSV file"
   ]
  },
  {
   "cell_type": "code",
   "execution_count": 0,
   "metadata": {
    "application/vnd.databricks.v1+cell": {
     "cellMetadata": {
      "byteLimit": 2048000,
      "rowLimit": 10000
     },
     "inputWidgets": {},
     "nuid": "59d5d458-cfc9-4442-974a-c4d3f3d22dfe",
     "showTitle": false,
     "tableResultSettingsMap": {},
     "title": ""
    }
   },
   "outputs": [],
   "source": [
    "# The following code will read CSV file using Spark from DBFS into spark dataframe\n",
    "\n",
    "\"\"\" \n",
    "1. Passing True in the header option lets spark to treat the first row as the header of the dataframe, without that \n",
    "the columns will be named as c0, c1, and so on.\n",
    "2. Passing True in the inferSchema option lets spark to interpret the correct datatype of each column based on the \n",
    "data, without that all columns will be of string type.\n",
    "\"\"\"\n",
    "\n",
    "df1 = spark.read.format(\"csv\") \\\n",
    "    .option(\"header\", True) \\\n",
    "    .option(\"inferSchema\", True) \\\n",
    "    .load(\"dbfs:/FileStore/DataFiles/SuperstoreOrders.csv\")"
   ]
  },
  {
   "cell_type": "code",
   "execution_count": 0,
   "metadata": {
    "application/vnd.databricks.v1+cell": {
     "cellMetadata": {
      "byteLimit": 2048000,
      "rowLimit": 10000
     },
     "inputWidgets": {},
     "nuid": "c7f35e6b-bf69-4f8d-b716-3fd1f916b7b1",
     "showTitle": false,
     "tableResultSettingsMap": {},
     "title": ""
    }
   },
   "outputs": [
    {
     "output_type": "display_data",
     "data": {
      "text/html": [
       "<style scoped>\n",
       "  .table-result-container {\n",
       "    max-height: 300px;\n",
       "    overflow: auto;\n",
       "  }\n",
       "  table, th, td {\n",
       "    border: 1px solid black;\n",
       "    border-collapse: collapse;\n",
       "  }\n",
       "  th, td {\n",
       "    padding: 5px;\n",
       "  }\n",
       "  th {\n",
       "    text-align: left;\n",
       "  }\n",
       "</style><div class='table-result-container'><table class='table-result'><thead style='background-color: white'><tr><th>Row ID</th><th>Order ID</th><th>Order Date</th><th>Ship Date</th><th>Ship Mode</th><th>Customer ID</th><th>Customer Name</th><th>Segment</th><th>Country/Region</th><th>City</th><th>State/Province</th><th>Postal Code</th><th>Region</th><th>Product ID</th><th>Category</th><th>Sub-Category</th><th>Product Name</th><th>Sales</th><th>Quantity</th><th>Discount</th><th>Profit</th></tr></thead><tbody><tr><td>1</td><td>US-2020-103800</td><td>2020-01-03</td><td>2020-01-07</td><td>Standard Class</td><td>DP-13000</td><td>Darren Powers</td><td>Consumer</td><td>United States</td><td>Houston</td><td>Texas</td><td>77095</td><td>Central</td><td>OFF-PA-10000174</td><td>Office Supplies</td><td>Paper</td><td>\"Message Book, Wirebound, Four 5 1/2\"\" X 4\"\" Forms/Pg.</td><td> 200 Dupl. Sets/Book\"</td><td>16.448</td><td>2</td><td>0.2</td></tr><tr><td>2</td><td>US-2020-112326</td><td>2020-01-04</td><td>2020-01-08</td><td>Standard Class</td><td>PO-19195</td><td>Phillina Ober</td><td>Home Office</td><td>United States</td><td>Naperville</td><td>Illinois</td><td>60540</td><td>Central</td><td>OFF-BI-10004094</td><td>Office Supplies</td><td>Binders</td><td>GBC Standard Plastic Binding Systems Combs</td><td>3.54</td><td>2</td><td>0.8</td><td>-5.487</td></tr><tr><td>3</td><td>US-2020-112326</td><td>2020-01-04</td><td>2020-01-08</td><td>Standard Class</td><td>PO-19195</td><td>Phillina Ober</td><td>Home Office</td><td>United States</td><td>Naperville</td><td>Illinois</td><td>60540</td><td>Central</td><td>OFF-LA-10003223</td><td>Office Supplies</td><td>Labels</td><td>Avery 508</td><td>11.784</td><td>3</td><td>0.2</td><td>4.2717</td></tr><tr><td>4</td><td>US-2020-112326</td><td>2020-01-04</td><td>2020-01-08</td><td>Standard Class</td><td>PO-19195</td><td>Phillina Ober</td><td>Home Office</td><td>United States</td><td>Naperville</td><td>Illinois</td><td>60540</td><td>Central</td><td>OFF-ST-10002743</td><td>Office Supplies</td><td>Storage</td><td>SAFCO Boltless Steel Shelving</td><td>272.736</td><td>3</td><td>0.2</td><td>-64.7748</td></tr><tr><td>5</td><td>US-2020-141817</td><td>2020-01-05</td><td>2020-01-12</td><td>Standard Class</td><td>MB-18085</td><td>Mick Brown</td><td>Consumer</td><td>United States</td><td>Philadelphia</td><td>Pennsylvania</td><td>19143</td><td>East</td><td>OFF-AR-10003478</td><td>Office Supplies</td><td>Art</td><td>Avery Hi-Liter EverBold Pen Style Fluorescent Highlighters, 4/Pack</td><td>19.536</td><td>3</td><td>0.2</td><td>4.884</td></tr></tbody></table></div>"
      ]
     },
     "metadata": {
      "application/vnd.databricks.v1+output": {
       "addedWidgets": {},
       "aggData": [],
       "aggError": "",
       "aggOverflow": false,
       "aggSchema": [],
       "aggSeriesLimitReached": false,
       "aggType": "",
       "arguments": {},
       "columnCustomDisplayInfos": {},
       "data": [
        [
         1,
         "US-2020-103800",
         "2020-01-03",
         "2020-01-07",
         "Standard Class",
         "DP-13000",
         "Darren Powers",
         "Consumer",
         "United States",
         "Houston",
         "Texas",
         "77095",
         "Central",
         "OFF-PA-10000174",
         "Office Supplies",
         "Paper",
         "\"Message Book, Wirebound, Four 5 1/2\"\" X 4\"\" Forms/Pg.",
         " 200 Dupl. Sets/Book\"",
         "16.448",
         "2",
         0.2
        ],
        [
         2,
         "US-2020-112326",
         "2020-01-04",
         "2020-01-08",
         "Standard Class",
         "PO-19195",
         "Phillina Ober",
         "Home Office",
         "United States",
         "Naperville",
         "Illinois",
         "60540",
         "Central",
         "OFF-BI-10004094",
         "Office Supplies",
         "Binders",
         "GBC Standard Plastic Binding Systems Combs",
         "3.54",
         "2",
         "0.8",
         -5.487
        ],
        [
         3,
         "US-2020-112326",
         "2020-01-04",
         "2020-01-08",
         "Standard Class",
         "PO-19195",
         "Phillina Ober",
         "Home Office",
         "United States",
         "Naperville",
         "Illinois",
         "60540",
         "Central",
         "OFF-LA-10003223",
         "Office Supplies",
         "Labels",
         "Avery 508",
         "11.784",
         "3",
         "0.2",
         4.2717
        ],
        [
         4,
         "US-2020-112326",
         "2020-01-04",
         "2020-01-08",
         "Standard Class",
         "PO-19195",
         "Phillina Ober",
         "Home Office",
         "United States",
         "Naperville",
         "Illinois",
         "60540",
         "Central",
         "OFF-ST-10002743",
         "Office Supplies",
         "Storage",
         "SAFCO Boltless Steel Shelving",
         "272.736",
         "3",
         "0.2",
         -64.7748
        ],
        [
         5,
         "US-2020-141817",
         "2020-01-05",
         "2020-01-12",
         "Standard Class",
         "MB-18085",
         "Mick Brown",
         "Consumer",
         "United States",
         "Philadelphia",
         "Pennsylvania",
         "19143",
         "East",
         "OFF-AR-10003478",
         "Office Supplies",
         "Art",
         "Avery Hi-Liter EverBold Pen Style Fluorescent Highlighters, 4/Pack",
         "19.536",
         "3",
         "0.2",
         4.884
        ]
       ],
       "datasetInfos": [],
       "dbfsResultPath": null,
       "isJsonSchema": true,
       "metadata": {},
       "overflow": false,
       "plotOptions": {
        "customPlotOptions": {},
        "displayType": "table",
        "pivotAggregation": null,
        "pivotColumns": null,
        "xColumns": null,
        "yColumns": null
       },
       "removedWidgets": [],
       "schema": [
        {
         "metadata": "{}",
         "name": "Row ID",
         "type": "\"integer\""
        },
        {
         "metadata": "{}",
         "name": "Order ID",
         "type": "\"string\""
        },
        {
         "metadata": "{\"__detected_date_formats\":\"M/d/yyyy\"}",
         "name": "Order Date",
         "type": "\"date\""
        },
        {
         "metadata": "{\"__detected_date_formats\":\"M/d/yyyy\"}",
         "name": "Ship Date",
         "type": "\"date\""
        },
        {
         "metadata": "{}",
         "name": "Ship Mode",
         "type": "\"string\""
        },
        {
         "metadata": "{}",
         "name": "Customer ID",
         "type": "\"string\""
        },
        {
         "metadata": "{}",
         "name": "Customer Name",
         "type": "\"string\""
        },
        {
         "metadata": "{}",
         "name": "Segment",
         "type": "\"string\""
        },
        {
         "metadata": "{}",
         "name": "Country/Region",
         "type": "\"string\""
        },
        {
         "metadata": "{}",
         "name": "City",
         "type": "\"string\""
        },
        {
         "metadata": "{}",
         "name": "State/Province",
         "type": "\"string\""
        },
        {
         "metadata": "{}",
         "name": "Postal Code",
         "type": "\"string\""
        },
        {
         "metadata": "{}",
         "name": "Region",
         "type": "\"string\""
        },
        {
         "metadata": "{}",
         "name": "Product ID",
         "type": "\"string\""
        },
        {
         "metadata": "{}",
         "name": "Category",
         "type": "\"string\""
        },
        {
         "metadata": "{}",
         "name": "Sub-Category",
         "type": "\"string\""
        },
        {
         "metadata": "{}",
         "name": "Product Name",
         "type": "\"string\""
        },
        {
         "metadata": "{}",
         "name": "Sales",
         "type": "\"string\""
        },
        {
         "metadata": "{}",
         "name": "Quantity",
         "type": "\"string\""
        },
        {
         "metadata": "{}",
         "name": "Discount",
         "type": "\"string\""
        },
        {
         "metadata": "{}",
         "name": "Profit",
         "type": "\"double\""
        }
       ],
       "type": "table"
      }
     },
     "output_type": "display_data"
    }
   ],
   "source": [
    "# Display the content of the spark dataframe read from the CSV file\n",
    "display(df1.limit(5))"
   ]
  },
  {
   "cell_type": "markdown",
   "metadata": {
    "application/vnd.databricks.v1+cell": {
     "cellMetadata": {
      "byteLimit": 2048000,
      "rowLimit": 10000
     },
     "inputWidgets": {},
     "nuid": "fc67cd6d-fce5-4564-809c-e5ef583f9eed",
     "showTitle": false,
     "tableResultSettingsMap": {},
     "title": ""
    }
   },
   "source": [
    "#### Extract data from JSON file"
   ]
  },
  {
   "cell_type": "code",
   "execution_count": 0,
   "metadata": {
    "application/vnd.databricks.v1+cell": {
     "cellMetadata": {
      "byteLimit": 2048000,
      "rowLimit": 10000
     },
     "inputWidgets": {},
     "nuid": "130eef45-be1d-4999-899d-93da008c5364",
     "showTitle": false,
     "tableResultSettingsMap": {},
     "title": ""
    }
   },
   "outputs": [],
   "source": [
    "# The following code will read JSON file using Spark from DBFS into Spark dataframe\n",
    "\n",
    "df2 = spark.read.format(\"json\") \\\n",
    "    .load(\"dbfs:/FileStore/DataFiles/SuperstoreRegions.json\")"
   ]
  },
  {
   "cell_type": "code",
   "execution_count": 0,
   "metadata": {
    "application/vnd.databricks.v1+cell": {
     "cellMetadata": {
      "byteLimit": 2048000,
      "rowLimit": 10000
     },
     "inputWidgets": {},
     "nuid": "2069e2fb-2d7c-47e4-9b88-2b7f3880b3f7",
     "showTitle": false,
     "tableResultSettingsMap": {},
     "title": ""
    }
   },
   "outputs": [
    {
     "output_type": "display_data",
     "data": {
      "text/html": [
       "<style scoped>\n",
       "  .table-result-container {\n",
       "    max-height: 300px;\n",
       "    overflow: auto;\n",
       "  }\n",
       "  table, th, td {\n",
       "    border: 1px solid black;\n",
       "    border-collapse: collapse;\n",
       "  }\n",
       "  th, td {\n",
       "    padding: 5px;\n",
       "  }\n",
       "  th {\n",
       "    text-align: left;\n",
       "  }\n",
       "</style><div class='table-result-container'><table class='table-result'><thead style='background-color: white'><tr><th>Region</th><th>RegionalManager</th></tr></thead><tbody><tr><td>West</td><td>Sadie Pawthorne</td></tr><tr><td>East</td><td>Chuck Magee</td></tr><tr><td>Central</td><td>Roxanne Rodriguez</td></tr><tr><td>South</td><td>Fred Suzuki</td></tr></tbody></table></div>"
      ]
     },
     "metadata": {
      "application/vnd.databricks.v1+output": {
       "addedWidgets": {},
       "aggData": [],
       "aggError": "",
       "aggOverflow": false,
       "aggSchema": [],
       "aggSeriesLimitReached": false,
       "aggType": "",
       "arguments": {},
       "columnCustomDisplayInfos": {},
       "data": [
        [
         "West",
         "Sadie Pawthorne"
        ],
        [
         "East",
         "Chuck Magee"
        ],
        [
         "Central",
         "Roxanne Rodriguez"
        ],
        [
         "South",
         "Fred Suzuki"
        ]
       ],
       "datasetInfos": [],
       "dbfsResultPath": null,
       "isJsonSchema": true,
       "metadata": {},
       "overflow": false,
       "plotOptions": {
        "customPlotOptions": {},
        "displayType": "table",
        "pivotAggregation": null,
        "pivotColumns": null,
        "xColumns": null,
        "yColumns": null
       },
       "removedWidgets": [],
       "schema": [
        {
         "metadata": "{}",
         "name": "Region",
         "type": "\"string\""
        },
        {
         "metadata": "{}",
         "name": "RegionalManager",
         "type": "\"string\""
        }
       ],
       "type": "table"
      }
     },
     "output_type": "display_data"
    }
   ],
   "source": [
    "# Display the content of the spark dataframe read from the JSON file\n",
    "display(df2)"
   ]
  },
  {
   "cell_type": "markdown",
   "metadata": {
    "application/vnd.databricks.v1+cell": {
     "cellMetadata": {
      "byteLimit": 2048000,
      "rowLimit": 10000
     },
     "inputWidgets": {},
     "nuid": "2e7f56b7-80cf-4c80-9e63-74c7ed931a6d",
     "showTitle": false,
     "tableResultSettingsMap": {},
     "title": ""
    }
   },
   "source": [
    "#### Spark dataframe to pandas dataframe"
   ]
  },
  {
   "cell_type": "code",
   "execution_count": 0,
   "metadata": {
    "application/vnd.databricks.v1+cell": {
     "cellMetadata": {
      "byteLimit": 2048000,
      "rowLimit": 10000
     },
     "inputWidgets": {},
     "nuid": "6b2ed506-3baf-427b-b336-61a9bfcb30a5",
     "showTitle": false,
     "tableResultSettingsMap": {},
     "title": ""
    }
   },
   "outputs": [
    {
     "output_type": "stream",
     "name": "stdout",
     "output_type": "stream",
     "text": [
      "<class 'pyspark.sql.dataframe.DataFrame'>\n<class 'pandas.core.frame.DataFrame'>\n"
     ]
    }
   ],
   "source": [
    "# Check the datatype of the original dataframe, which will be a Spark SQL dataframe\n",
    "print(type(df1)) \n",
    "\n",
    "# Convert that into pandas dataframe\n",
    "pdf1 = df1.toPandas()\n",
    "pdf2 = df2.toPandas()\n",
    "\n",
    "# Check the datatype of the new dataframe, which will be a pandas dataframe\n",
    "print(type(pdf1)) "
   ]
  },
  {
   "cell_type": "code",
   "execution_count": 0,
   "metadata": {
    "application/vnd.databricks.v1+cell": {
     "cellMetadata": {
      "byteLimit": 2048000,
      "rowLimit": 10000
     },
     "inputWidgets": {},
     "nuid": "83df0d37-f6fa-49d3-91e2-7b4bcc1d2f8f",
     "showTitle": false,
     "tableResultSettingsMap": {},
     "title": ""
    }
   },
   "outputs": [
    {
     "output_type": "display_data",
     "data": {
      "text/html": [
       "<div>\n",
       "<style scoped>\n",
       "    .dataframe tbody tr th:only-of-type {\n",
       "        vertical-align: middle;\n",
       "    }\n",
       "\n",
       "    .dataframe tbody tr th {\n",
       "        vertical-align: top;\n",
       "    }\n",
       "\n",
       "    .dataframe thead th {\n",
       "        text-align: right;\n",
       "    }\n",
       "</style>\n",
       "<table border=\"1\" class=\"dataframe\">\n",
       "  <thead>\n",
       "    <tr style=\"text-align: right;\">\n",
       "      <th></th>\n",
       "      <th>Row ID</th>\n",
       "      <th>Order ID</th>\n",
       "      <th>Order Date</th>\n",
       "      <th>Ship Date</th>\n",
       "      <th>Ship Mode</th>\n",
       "      <th>Customer ID</th>\n",
       "      <th>Customer Name</th>\n",
       "      <th>Segment</th>\n",
       "      <th>Country/Region</th>\n",
       "      <th>City</th>\n",
       "      <th>...</th>\n",
       "      <th>Postal Code</th>\n",
       "      <th>Region</th>\n",
       "      <th>Product ID</th>\n",
       "      <th>Category</th>\n",
       "      <th>Sub-Category</th>\n",
       "      <th>Product Name</th>\n",
       "      <th>Sales</th>\n",
       "      <th>Quantity</th>\n",
       "      <th>Discount</th>\n",
       "      <th>Profit</th>\n",
       "    </tr>\n",
       "  </thead>\n",
       "  <tbody>\n",
       "    <tr>\n",
       "      <th>0</th>\n",
       "      <td>1</td>\n",
       "      <td>US-2020-103800</td>\n",
       "      <td>2020-01-03</td>\n",
       "      <td>2020-01-07</td>\n",
       "      <td>Standard Class</td>\n",
       "      <td>DP-13000</td>\n",
       "      <td>Darren Powers</td>\n",
       "      <td>Consumer</td>\n",
       "      <td>United States</td>\n",
       "      <td>Houston</td>\n",
       "      <td>...</td>\n",
       "      <td>77095</td>\n",
       "      <td>Central</td>\n",
       "      <td>OFF-PA-10000174</td>\n",
       "      <td>Office Supplies</td>\n",
       "      <td>Paper</td>\n",
       "      <td>\"Message Book, Wirebound, Four 5 1/2\"\" X 4\"\" F...</td>\n",
       "      <td>200 Dupl. Sets/Book\"</td>\n",
       "      <td>16.448</td>\n",
       "      <td>2</td>\n",
       "      <td>0.2000</td>\n",
       "    </tr>\n",
       "    <tr>\n",
       "      <th>1</th>\n",
       "      <td>2</td>\n",
       "      <td>US-2020-112326</td>\n",
       "      <td>2020-01-04</td>\n",
       "      <td>2020-01-08</td>\n",
       "      <td>Standard Class</td>\n",
       "      <td>PO-19195</td>\n",
       "      <td>Phillina Ober</td>\n",
       "      <td>Home Office</td>\n",
       "      <td>United States</td>\n",
       "      <td>Naperville</td>\n",
       "      <td>...</td>\n",
       "      <td>60540</td>\n",
       "      <td>Central</td>\n",
       "      <td>OFF-BI-10004094</td>\n",
       "      <td>Office Supplies</td>\n",
       "      <td>Binders</td>\n",
       "      <td>GBC Standard Plastic Binding Systems Combs</td>\n",
       "      <td>3.54</td>\n",
       "      <td>2</td>\n",
       "      <td>0.8</td>\n",
       "      <td>-5.4870</td>\n",
       "    </tr>\n",
       "    <tr>\n",
       "      <th>2</th>\n",
       "      <td>3</td>\n",
       "      <td>US-2020-112326</td>\n",
       "      <td>2020-01-04</td>\n",
       "      <td>2020-01-08</td>\n",
       "      <td>Standard Class</td>\n",
       "      <td>PO-19195</td>\n",
       "      <td>Phillina Ober</td>\n",
       "      <td>Home Office</td>\n",
       "      <td>United States</td>\n",
       "      <td>Naperville</td>\n",
       "      <td>...</td>\n",
       "      <td>60540</td>\n",
       "      <td>Central</td>\n",
       "      <td>OFF-LA-10003223</td>\n",
       "      <td>Office Supplies</td>\n",
       "      <td>Labels</td>\n",
       "      <td>Avery 508</td>\n",
       "      <td>11.784</td>\n",
       "      <td>3</td>\n",
       "      <td>0.2</td>\n",
       "      <td>4.2717</td>\n",
       "    </tr>\n",
       "    <tr>\n",
       "      <th>3</th>\n",
       "      <td>4</td>\n",
       "      <td>US-2020-112326</td>\n",
       "      <td>2020-01-04</td>\n",
       "      <td>2020-01-08</td>\n",
       "      <td>Standard Class</td>\n",
       "      <td>PO-19195</td>\n",
       "      <td>Phillina Ober</td>\n",
       "      <td>Home Office</td>\n",
       "      <td>United States</td>\n",
       "      <td>Naperville</td>\n",
       "      <td>...</td>\n",
       "      <td>60540</td>\n",
       "      <td>Central</td>\n",
       "      <td>OFF-ST-10002743</td>\n",
       "      <td>Office Supplies</td>\n",
       "      <td>Storage</td>\n",
       "      <td>SAFCO Boltless Steel Shelving</td>\n",
       "      <td>272.736</td>\n",
       "      <td>3</td>\n",
       "      <td>0.2</td>\n",
       "      <td>-64.7748</td>\n",
       "    </tr>\n",
       "    <tr>\n",
       "      <th>4</th>\n",
       "      <td>5</td>\n",
       "      <td>US-2020-141817</td>\n",
       "      <td>2020-01-05</td>\n",
       "      <td>2020-01-12</td>\n",
       "      <td>Standard Class</td>\n",
       "      <td>MB-18085</td>\n",
       "      <td>Mick Brown</td>\n",
       "      <td>Consumer</td>\n",
       "      <td>United States</td>\n",
       "      <td>Philadelphia</td>\n",
       "      <td>...</td>\n",
       "      <td>19143</td>\n",
       "      <td>East</td>\n",
       "      <td>OFF-AR-10003478</td>\n",
       "      <td>Office Supplies</td>\n",
       "      <td>Art</td>\n",
       "      <td>Avery Hi-Liter EverBold Pen Style Fluorescent ...</td>\n",
       "      <td>19.536</td>\n",
       "      <td>3</td>\n",
       "      <td>0.2</td>\n",
       "      <td>4.8840</td>\n",
       "    </tr>\n",
       "  </tbody>\n",
       "</table>\n",
       "<p>5 rows × 21 columns</p>\n",
       "</div>"
      ]
     },
     "metadata": {
      "application/vnd.databricks.v1+output": {
       "addedWidgets": {},
       "arguments": {},
       "data": "<div>\n<style scoped>\n    .dataframe tbody tr th:only-of-type {\n        vertical-align: middle;\n    }\n\n    .dataframe tbody tr th {\n        vertical-align: top;\n    }\n\n    .dataframe thead th {\n        text-align: right;\n    }\n</style>\n<table border=\"1\" class=\"dataframe\">\n  <thead>\n    <tr style=\"text-align: right;\">\n      <th></th>\n      <th>Row ID</th>\n      <th>Order ID</th>\n      <th>Order Date</th>\n      <th>Ship Date</th>\n      <th>Ship Mode</th>\n      <th>Customer ID</th>\n      <th>Customer Name</th>\n      <th>Segment</th>\n      <th>Country/Region</th>\n      <th>City</th>\n      <th>...</th>\n      <th>Postal Code</th>\n      <th>Region</th>\n      <th>Product ID</th>\n      <th>Category</th>\n      <th>Sub-Category</th>\n      <th>Product Name</th>\n      <th>Sales</th>\n      <th>Quantity</th>\n      <th>Discount</th>\n      <th>Profit</th>\n    </tr>\n  </thead>\n  <tbody>\n    <tr>\n      <th>0</th>\n      <td>1</td>\n      <td>US-2020-103800</td>\n      <td>2020-01-03</td>\n      <td>2020-01-07</td>\n      <td>Standard Class</td>\n      <td>DP-13000</td>\n      <td>Darren Powers</td>\n      <td>Consumer</td>\n      <td>United States</td>\n      <td>Houston</td>\n      <td>...</td>\n      <td>77095</td>\n      <td>Central</td>\n      <td>OFF-PA-10000174</td>\n      <td>Office Supplies</td>\n      <td>Paper</td>\n      <td>\"Message Book, Wirebound, Four 5 1/2\"\" X 4\"\" F...</td>\n      <td>200 Dupl. Sets/Book\"</td>\n      <td>16.448</td>\n      <td>2</td>\n      <td>0.2000</td>\n    </tr>\n    <tr>\n      <th>1</th>\n      <td>2</td>\n      <td>US-2020-112326</td>\n      <td>2020-01-04</td>\n      <td>2020-01-08</td>\n      <td>Standard Class</td>\n      <td>PO-19195</td>\n      <td>Phillina Ober</td>\n      <td>Home Office</td>\n      <td>United States</td>\n      <td>Naperville</td>\n      <td>...</td>\n      <td>60540</td>\n      <td>Central</td>\n      <td>OFF-BI-10004094</td>\n      <td>Office Supplies</td>\n      <td>Binders</td>\n      <td>GBC Standard Plastic Binding Systems Combs</td>\n      <td>3.54</td>\n      <td>2</td>\n      <td>0.8</td>\n      <td>-5.4870</td>\n    </tr>\n    <tr>\n      <th>2</th>\n      <td>3</td>\n      <td>US-2020-112326</td>\n      <td>2020-01-04</td>\n      <td>2020-01-08</td>\n      <td>Standard Class</td>\n      <td>PO-19195</td>\n      <td>Phillina Ober</td>\n      <td>Home Office</td>\n      <td>United States</td>\n      <td>Naperville</td>\n      <td>...</td>\n      <td>60540</td>\n      <td>Central</td>\n      <td>OFF-LA-10003223</td>\n      <td>Office Supplies</td>\n      <td>Labels</td>\n      <td>Avery 508</td>\n      <td>11.784</td>\n      <td>3</td>\n      <td>0.2</td>\n      <td>4.2717</td>\n    </tr>\n    <tr>\n      <th>3</th>\n      <td>4</td>\n      <td>US-2020-112326</td>\n      <td>2020-01-04</td>\n      <td>2020-01-08</td>\n      <td>Standard Class</td>\n      <td>PO-19195</td>\n      <td>Phillina Ober</td>\n      <td>Home Office</td>\n      <td>United States</td>\n      <td>Naperville</td>\n      <td>...</td>\n      <td>60540</td>\n      <td>Central</td>\n      <td>OFF-ST-10002743</td>\n      <td>Office Supplies</td>\n      <td>Storage</td>\n      <td>SAFCO Boltless Steel Shelving</td>\n      <td>272.736</td>\n      <td>3</td>\n      <td>0.2</td>\n      <td>-64.7748</td>\n    </tr>\n    <tr>\n      <th>4</th>\n      <td>5</td>\n      <td>US-2020-141817</td>\n      <td>2020-01-05</td>\n      <td>2020-01-12</td>\n      <td>Standard Class</td>\n      <td>MB-18085</td>\n      <td>Mick Brown</td>\n      <td>Consumer</td>\n      <td>United States</td>\n      <td>Philadelphia</td>\n      <td>...</td>\n      <td>19143</td>\n      <td>East</td>\n      <td>OFF-AR-10003478</td>\n      <td>Office Supplies</td>\n      <td>Art</td>\n      <td>Avery Hi-Liter EverBold Pen Style Fluorescent ...</td>\n      <td>19.536</td>\n      <td>3</td>\n      <td>0.2</td>\n      <td>4.8840</td>\n    </tr>\n  </tbody>\n</table>\n<p>5 rows × 21 columns</p>\n</div>",
       "datasetInfos": [],
       "metadata": {},
       "removedWidgets": [],
       "textData": null,
       "type": "htmlSandbox"
      }
     },
     "output_type": "display_data"
    }
   ],
   "source": [
    "# Display the first 5 records of the pandas dataframe\n",
    "pdf1.head()"
   ]
  },
  {
   "cell_type": "code",
   "execution_count": 0,
   "metadata": {
    "application/vnd.databricks.v1+cell": {
     "cellMetadata": {
      "byteLimit": 2048000,
      "rowLimit": 10000
     },
     "inputWidgets": {},
     "nuid": "91469c6c-096b-4dbb-a04c-d5e82ae3f9c6",
     "showTitle": false,
     "tableResultSettingsMap": {},
     "title": ""
    }
   },
   "outputs": [
    {
     "output_type": "display_data",
     "data": {
      "text/html": [
       "<div>\n",
       "<style scoped>\n",
       "    .dataframe tbody tr th:only-of-type {\n",
       "        vertical-align: middle;\n",
       "    }\n",
       "\n",
       "    .dataframe tbody tr th {\n",
       "        vertical-align: top;\n",
       "    }\n",
       "\n",
       "    .dataframe thead th {\n",
       "        text-align: right;\n",
       "    }\n",
       "</style>\n",
       "<table border=\"1\" class=\"dataframe\">\n",
       "  <thead>\n",
       "    <tr style=\"text-align: right;\">\n",
       "      <th></th>\n",
       "      <th>Region</th>\n",
       "      <th>RegionalManager</th>\n",
       "    </tr>\n",
       "  </thead>\n",
       "  <tbody>\n",
       "    <tr>\n",
       "      <th>0</th>\n",
       "      <td>West</td>\n",
       "      <td>Sadie Pawthorne</td>\n",
       "    </tr>\n",
       "    <tr>\n",
       "      <th>1</th>\n",
       "      <td>East</td>\n",
       "      <td>Chuck Magee</td>\n",
       "    </tr>\n",
       "    <tr>\n",
       "      <th>2</th>\n",
       "      <td>Central</td>\n",
       "      <td>Roxanne Rodriguez</td>\n",
       "    </tr>\n",
       "    <tr>\n",
       "      <th>3</th>\n",
       "      <td>South</td>\n",
       "      <td>Fred Suzuki</td>\n",
       "    </tr>\n",
       "  </tbody>\n",
       "</table>\n",
       "</div>"
      ]
     },
     "metadata": {
      "application/vnd.databricks.v1+output": {
       "addedWidgets": {},
       "arguments": {},
       "data": "<div>\n<style scoped>\n    .dataframe tbody tr th:only-of-type {\n        vertical-align: middle;\n    }\n\n    .dataframe tbody tr th {\n        vertical-align: top;\n    }\n\n    .dataframe thead th {\n        text-align: right;\n    }\n</style>\n<table border=\"1\" class=\"dataframe\">\n  <thead>\n    <tr style=\"text-align: right;\">\n      <th></th>\n      <th>Region</th>\n      <th>RegionalManager</th>\n    </tr>\n  </thead>\n  <tbody>\n    <tr>\n      <th>0</th>\n      <td>West</td>\n      <td>Sadie Pawthorne</td>\n    </tr>\n    <tr>\n      <th>1</th>\n      <td>East</td>\n      <td>Chuck Magee</td>\n    </tr>\n    <tr>\n      <th>2</th>\n      <td>Central</td>\n      <td>Roxanne Rodriguez</td>\n    </tr>\n    <tr>\n      <th>3</th>\n      <td>South</td>\n      <td>Fred Suzuki</td>\n    </tr>\n  </tbody>\n</table>\n</div>",
       "datasetInfos": [],
       "metadata": {},
       "removedWidgets": [],
       "textData": null,
       "type": "htmlSandbox"
      }
     },
     "output_type": "display_data"
    }
   ],
   "source": [
    "# Display the first 5 records of the pandas dataframe\n",
    "pdf2.head()"
   ]
  }
 ],
 "metadata": {
  "application/vnd.databricks.v1+notebook": {
   "computePreferences": null,
   "dashboards": [],
   "environmentMetadata": {
    "base_environment": "",
    "client": "1"
   },
   "language": "python",
   "notebookMetadata": {
    "mostRecentlyExecutedCommandWithImplicitDF": {
     "commandId": 220961397693019,
     "dataframes": [
      "_sqldf"
     ]
    },
    "pythonIndentUnit": 4
   },
   "notebookName": "Exploratory Data Analysis - Extract Data",
   "widgets": {}
  }
 },
 "nbformat": 4,
 "nbformat_minor": 0
}
